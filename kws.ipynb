{
 "cells": [
  {
   "cell_type": "markdown",
   "id": "3933746c",
   "metadata": {},
   "source": [
    "Author: Nathan Wegmann"
   ]
  },
  {
   "cell_type": "code",
   "execution_count": 5,
   "id": "f50f26d1",
   "metadata": {},
   "outputs": [
    {
     "name": "stdout",
     "output_type": "stream",
     "text": [
      "Requirement already satisfied: jupyterlab in ./.venv/lib/python3.13/site-packages (4.4.1)\n",
      "Requirement already satisfied: ipykernel in ./.venv/lib/python3.13/site-packages (6.29.5)\n",
      "Requirement already satisfied: pillow in ./.venv/lib/python3.13/site-packages (11.2.1)\n",
      "Requirement already satisfied: numpy in ./.venv/lib/python3.13/site-packages (2.2.5)\n",
      "Requirement already satisfied: lxml in ./.venv/lib/python3.13/site-packages (5.4.0)\n",
      "Requirement already satisfied: tqdm in ./.venv/lib/python3.13/site-packages (4.67.1)\n",
      "Collecting svgpathtools\n",
      "  Downloading svgpathtools-1.6.1-py2.py3-none-any.whl.metadata (22 kB)\n",
      "Requirement already satisfied: async-lru>=1.0.0 in ./.venv/lib/python3.13/site-packages (from jupyterlab) (2.0.5)\n",
      "Requirement already satisfied: httpx>=0.25.0 in ./.venv/lib/python3.13/site-packages (from jupyterlab) (0.28.1)\n",
      "Requirement already satisfied: jinja2>=3.0.3 in ./.venv/lib/python3.13/site-packages (from jupyterlab) (3.1.6)\n",
      "Requirement already satisfied: jupyter-core in ./.venv/lib/python3.13/site-packages (from jupyterlab) (5.7.2)\n",
      "Requirement already satisfied: jupyter-lsp>=2.0.0 in ./.venv/lib/python3.13/site-packages (from jupyterlab) (2.2.5)\n",
      "Requirement already satisfied: jupyter-server<3,>=2.4.0 in ./.venv/lib/python3.13/site-packages (from jupyterlab) (2.15.0)\n",
      "Requirement already satisfied: jupyterlab-server<3,>=2.27.1 in ./.venv/lib/python3.13/site-packages (from jupyterlab) (2.27.3)\n",
      "Requirement already satisfied: notebook-shim>=0.2 in ./.venv/lib/python3.13/site-packages (from jupyterlab) (0.2.4)\n",
      "Requirement already satisfied: packaging in ./.venv/lib/python3.13/site-packages (from jupyterlab) (25.0)\n",
      "Requirement already satisfied: setuptools>=41.1.0 in ./.venv/lib/python3.13/site-packages (from jupyterlab) (80.3.0)\n",
      "Requirement already satisfied: tornado>=6.2.0 in ./.venv/lib/python3.13/site-packages (from jupyterlab) (6.4.2)\n",
      "Requirement already satisfied: traitlets in ./.venv/lib/python3.13/site-packages (from jupyterlab) (5.14.3)\n",
      "Requirement already satisfied: anyio>=3.1.0 in ./.venv/lib/python3.13/site-packages (from jupyter-server<3,>=2.4.0->jupyterlab) (4.9.0)\n",
      "Requirement already satisfied: argon2-cffi>=21.1 in ./.venv/lib/python3.13/site-packages (from jupyter-server<3,>=2.4.0->jupyterlab) (23.1.0)\n",
      "Requirement already satisfied: jupyter-client>=7.4.4 in ./.venv/lib/python3.13/site-packages (from jupyter-server<3,>=2.4.0->jupyterlab) (8.6.3)\n",
      "Requirement already satisfied: jupyter-events>=0.11.0 in ./.venv/lib/python3.13/site-packages (from jupyter-server<3,>=2.4.0->jupyterlab) (0.12.0)\n",
      "Requirement already satisfied: jupyter-server-terminals>=0.4.4 in ./.venv/lib/python3.13/site-packages (from jupyter-server<3,>=2.4.0->jupyterlab) (0.5.3)\n",
      "Requirement already satisfied: nbconvert>=6.4.4 in ./.venv/lib/python3.13/site-packages (from jupyter-server<3,>=2.4.0->jupyterlab) (7.16.6)\n",
      "Requirement already satisfied: nbformat>=5.3.0 in ./.venv/lib/python3.13/site-packages (from jupyter-server<3,>=2.4.0->jupyterlab) (5.10.4)\n",
      "Requirement already satisfied: overrides>=5.0 in ./.venv/lib/python3.13/site-packages (from jupyter-server<3,>=2.4.0->jupyterlab) (7.7.0)\n",
      "Requirement already satisfied: prometheus-client>=0.9 in ./.venv/lib/python3.13/site-packages (from jupyter-server<3,>=2.4.0->jupyterlab) (0.21.1)\n",
      "Requirement already satisfied: pyzmq>=24 in ./.venv/lib/python3.13/site-packages (from jupyter-server<3,>=2.4.0->jupyterlab) (26.4.0)\n",
      "Requirement already satisfied: send2trash>=1.8.2 in ./.venv/lib/python3.13/site-packages (from jupyter-server<3,>=2.4.0->jupyterlab) (1.8.3)\n",
      "Requirement already satisfied: terminado>=0.8.3 in ./.venv/lib/python3.13/site-packages (from jupyter-server<3,>=2.4.0->jupyterlab) (0.18.1)\n",
      "Requirement already satisfied: websocket-client>=1.7 in ./.venv/lib/python3.13/site-packages (from jupyter-server<3,>=2.4.0->jupyterlab) (1.8.0)\n",
      "Requirement already satisfied: babel>=2.10 in ./.venv/lib/python3.13/site-packages (from jupyterlab-server<3,>=2.27.1->jupyterlab) (2.17.0)\n",
      "Requirement already satisfied: json5>=0.9.0 in ./.venv/lib/python3.13/site-packages (from jupyterlab-server<3,>=2.27.1->jupyterlab) (0.12.0)\n",
      "Requirement already satisfied: jsonschema>=4.18.0 in ./.venv/lib/python3.13/site-packages (from jupyterlab-server<3,>=2.27.1->jupyterlab) (4.23.0)\n",
      "Requirement already satisfied: requests>=2.31 in ./.venv/lib/python3.13/site-packages (from jupyterlab-server<3,>=2.27.1->jupyterlab) (2.32.3)\n",
      "Requirement already satisfied: appnope in ./.venv/lib/python3.13/site-packages (from ipykernel) (0.1.4)\n",
      "Requirement already satisfied: comm>=0.1.1 in ./.venv/lib/python3.13/site-packages (from ipykernel) (0.2.2)\n",
      "Requirement already satisfied: debugpy>=1.6.5 in ./.venv/lib/python3.13/site-packages (from ipykernel) (1.8.14)\n",
      "Requirement already satisfied: ipython>=7.23.1 in ./.venv/lib/python3.13/site-packages (from ipykernel) (9.2.0)\n",
      "Requirement already satisfied: matplotlib-inline>=0.1 in ./.venv/lib/python3.13/site-packages (from ipykernel) (0.1.7)\n",
      "Requirement already satisfied: nest-asyncio in ./.venv/lib/python3.13/site-packages (from ipykernel) (1.6.0)\n",
      "Requirement already satisfied: psutil in ./.venv/lib/python3.13/site-packages (from ipykernel) (7.0.0)\n",
      "Collecting svgwrite (from svgpathtools)\n",
      "  Downloading svgwrite-1.4.3-py3-none-any.whl.metadata (8.8 kB)\n",
      "Collecting scipy (from svgpathtools)\n",
      "  Using cached scipy-1.15.2-cp313-cp313-macosx_14_0_arm64.whl.metadata (61 kB)\n",
      "Requirement already satisfied: idna>=2.8 in ./.venv/lib/python3.13/site-packages (from anyio>=3.1.0->jupyter-server<3,>=2.4.0->jupyterlab) (3.10)\n",
      "Requirement already satisfied: sniffio>=1.1 in ./.venv/lib/python3.13/site-packages (from anyio>=3.1.0->jupyter-server<3,>=2.4.0->jupyterlab) (1.3.1)\n",
      "Requirement already satisfied: argon2-cffi-bindings in ./.venv/lib/python3.13/site-packages (from argon2-cffi>=21.1->jupyter-server<3,>=2.4.0->jupyterlab) (21.2.0)\n",
      "Requirement already satisfied: certifi in ./.venv/lib/python3.13/site-packages (from httpx>=0.25.0->jupyterlab) (2025.4.26)\n",
      "Requirement already satisfied: httpcore==1.* in ./.venv/lib/python3.13/site-packages (from httpx>=0.25.0->jupyterlab) (1.0.9)\n",
      "Requirement already satisfied: h11>=0.16 in ./.venv/lib/python3.13/site-packages (from httpcore==1.*->httpx>=0.25.0->jupyterlab) (0.16.0)\n",
      "Requirement already satisfied: decorator in ./.venv/lib/python3.13/site-packages (from ipython>=7.23.1->ipykernel) (5.2.1)\n",
      "Requirement already satisfied: ipython-pygments-lexers in ./.venv/lib/python3.13/site-packages (from ipython>=7.23.1->ipykernel) (1.1.1)\n",
      "Requirement already satisfied: jedi>=0.16 in ./.venv/lib/python3.13/site-packages (from ipython>=7.23.1->ipykernel) (0.19.2)\n",
      "Requirement already satisfied: pexpect>4.3 in ./.venv/lib/python3.13/site-packages (from ipython>=7.23.1->ipykernel) (4.9.0)\n",
      "Requirement already satisfied: prompt_toolkit<3.1.0,>=3.0.41 in ./.venv/lib/python3.13/site-packages (from ipython>=7.23.1->ipykernel) (3.0.51)\n",
      "Requirement already satisfied: pygments>=2.4.0 in ./.venv/lib/python3.13/site-packages (from ipython>=7.23.1->ipykernel) (2.19.1)\n",
      "Requirement already satisfied: stack_data in ./.venv/lib/python3.13/site-packages (from ipython>=7.23.1->ipykernel) (0.6.3)\n",
      "Requirement already satisfied: wcwidth in ./.venv/lib/python3.13/site-packages (from prompt_toolkit<3.1.0,>=3.0.41->ipython>=7.23.1->ipykernel) (0.2.13)\n",
      "Requirement already satisfied: parso<0.9.0,>=0.8.4 in ./.venv/lib/python3.13/site-packages (from jedi>=0.16->ipython>=7.23.1->ipykernel) (0.8.4)\n",
      "Requirement already satisfied: MarkupSafe>=2.0 in ./.venv/lib/python3.13/site-packages (from jinja2>=3.0.3->jupyterlab) (3.0.2)\n",
      "Requirement already satisfied: attrs>=22.2.0 in ./.venv/lib/python3.13/site-packages (from jsonschema>=4.18.0->jupyterlab-server<3,>=2.27.1->jupyterlab) (25.3.0)\n",
      "Requirement already satisfied: jsonschema-specifications>=2023.03.6 in ./.venv/lib/python3.13/site-packages (from jsonschema>=4.18.0->jupyterlab-server<3,>=2.27.1->jupyterlab) (2025.4.1)\n",
      "Requirement already satisfied: referencing>=0.28.4 in ./.venv/lib/python3.13/site-packages (from jsonschema>=4.18.0->jupyterlab-server<3,>=2.27.1->jupyterlab) (0.36.2)\n",
      "Requirement already satisfied: rpds-py>=0.7.1 in ./.venv/lib/python3.13/site-packages (from jsonschema>=4.18.0->jupyterlab-server<3,>=2.27.1->jupyterlab) (0.24.0)\n",
      "Requirement already satisfied: python-dateutil>=2.8.2 in ./.venv/lib/python3.13/site-packages (from jupyter-client>=7.4.4->jupyter-server<3,>=2.4.0->jupyterlab) (2.9.0.post0)\n",
      "Requirement already satisfied: platformdirs>=2.5 in ./.venv/lib/python3.13/site-packages (from jupyter-core->jupyterlab) (4.3.7)\n",
      "Requirement already satisfied: python-json-logger>=2.0.4 in ./.venv/lib/python3.13/site-packages (from jupyter-events>=0.11.0->jupyter-server<3,>=2.4.0->jupyterlab) (3.3.0)\n",
      "Requirement already satisfied: pyyaml>=5.3 in ./.venv/lib/python3.13/site-packages (from jupyter-events>=0.11.0->jupyter-server<3,>=2.4.0->jupyterlab) (6.0.2)\n",
      "Requirement already satisfied: rfc3339-validator in ./.venv/lib/python3.13/site-packages (from jupyter-events>=0.11.0->jupyter-server<3,>=2.4.0->jupyterlab) (0.1.4)\n",
      "Requirement already satisfied: rfc3986-validator>=0.1.1 in ./.venv/lib/python3.13/site-packages (from jupyter-events>=0.11.0->jupyter-server<3,>=2.4.0->jupyterlab) (0.1.1)\n",
      "Requirement already satisfied: fqdn in ./.venv/lib/python3.13/site-packages (from jsonschema[format-nongpl]>=4.18.0->jupyter-events>=0.11.0->jupyter-server<3,>=2.4.0->jupyterlab) (1.5.1)\n",
      "Requirement already satisfied: isoduration in ./.venv/lib/python3.13/site-packages (from jsonschema[format-nongpl]>=4.18.0->jupyter-events>=0.11.0->jupyter-server<3,>=2.4.0->jupyterlab) (20.11.0)\n",
      "Requirement already satisfied: jsonpointer>1.13 in ./.venv/lib/python3.13/site-packages (from jsonschema[format-nongpl]>=4.18.0->jupyter-events>=0.11.0->jupyter-server<3,>=2.4.0->jupyterlab) (3.0.0)\n",
      "Requirement already satisfied: uri-template in ./.venv/lib/python3.13/site-packages (from jsonschema[format-nongpl]>=4.18.0->jupyter-events>=0.11.0->jupyter-server<3,>=2.4.0->jupyterlab) (1.3.0)\n",
      "Requirement already satisfied: webcolors>=24.6.0 in ./.venv/lib/python3.13/site-packages (from jsonschema[format-nongpl]>=4.18.0->jupyter-events>=0.11.0->jupyter-server<3,>=2.4.0->jupyterlab) (24.11.1)\n",
      "Requirement already satisfied: beautifulsoup4 in ./.venv/lib/python3.13/site-packages (from nbconvert>=6.4.4->jupyter-server<3,>=2.4.0->jupyterlab) (4.13.4)\n",
      "Requirement already satisfied: bleach!=5.0.0 in ./.venv/lib/python3.13/site-packages (from bleach[css]!=5.0.0->nbconvert>=6.4.4->jupyter-server<3,>=2.4.0->jupyterlab) (6.2.0)\n",
      "Requirement already satisfied: defusedxml in ./.venv/lib/python3.13/site-packages (from nbconvert>=6.4.4->jupyter-server<3,>=2.4.0->jupyterlab) (0.7.1)\n",
      "Requirement already satisfied: jupyterlab-pygments in ./.venv/lib/python3.13/site-packages (from nbconvert>=6.4.4->jupyter-server<3,>=2.4.0->jupyterlab) (0.3.0)\n",
      "Requirement already satisfied: mistune<4,>=2.0.3 in ./.venv/lib/python3.13/site-packages (from nbconvert>=6.4.4->jupyter-server<3,>=2.4.0->jupyterlab) (3.1.3)\n",
      "Requirement already satisfied: nbclient>=0.5.0 in ./.venv/lib/python3.13/site-packages (from nbconvert>=6.4.4->jupyter-server<3,>=2.4.0->jupyterlab) (0.10.2)\n",
      "Requirement already satisfied: pandocfilters>=1.4.1 in ./.venv/lib/python3.13/site-packages (from nbconvert>=6.4.4->jupyter-server<3,>=2.4.0->jupyterlab) (1.5.1)\n",
      "Requirement already satisfied: webencodings in ./.venv/lib/python3.13/site-packages (from bleach!=5.0.0->bleach[css]!=5.0.0->nbconvert>=6.4.4->jupyter-server<3,>=2.4.0->jupyterlab) (0.5.1)\n",
      "Requirement already satisfied: tinycss2<1.5,>=1.1.0 in ./.venv/lib/python3.13/site-packages (from bleach[css]!=5.0.0->nbconvert>=6.4.4->jupyter-server<3,>=2.4.0->jupyterlab) (1.4.0)\n",
      "Requirement already satisfied: fastjsonschema>=2.15 in ./.venv/lib/python3.13/site-packages (from nbformat>=5.3.0->jupyter-server<3,>=2.4.0->jupyterlab) (2.21.1)\n",
      "Requirement already satisfied: ptyprocess>=0.5 in ./.venv/lib/python3.13/site-packages (from pexpect>4.3->ipython>=7.23.1->ipykernel) (0.7.0)\n",
      "Requirement already satisfied: six>=1.5 in ./.venv/lib/python3.13/site-packages (from python-dateutil>=2.8.2->jupyter-client>=7.4.4->jupyter-server<3,>=2.4.0->jupyterlab) (1.17.0)\n",
      "Requirement already satisfied: charset-normalizer<4,>=2 in ./.venv/lib/python3.13/site-packages (from requests>=2.31->jupyterlab-server<3,>=2.27.1->jupyterlab) (3.4.2)\n",
      "Requirement already satisfied: urllib3<3,>=1.21.1 in ./.venv/lib/python3.13/site-packages (from requests>=2.31->jupyterlab-server<3,>=2.27.1->jupyterlab) (2.4.0)\n",
      "Requirement already satisfied: cffi>=1.0.1 in ./.venv/lib/python3.13/site-packages (from argon2-cffi-bindings->argon2-cffi>=21.1->jupyter-server<3,>=2.4.0->jupyterlab) (1.17.1)\n",
      "Requirement already satisfied: pycparser in ./.venv/lib/python3.13/site-packages (from cffi>=1.0.1->argon2-cffi-bindings->argon2-cffi>=21.1->jupyter-server<3,>=2.4.0->jupyterlab) (2.22)\n",
      "Requirement already satisfied: soupsieve>1.2 in ./.venv/lib/python3.13/site-packages (from beautifulsoup4->nbconvert>=6.4.4->jupyter-server<3,>=2.4.0->jupyterlab) (2.7)\n",
      "Requirement already satisfied: typing-extensions>=4.0.0 in ./.venv/lib/python3.13/site-packages (from beautifulsoup4->nbconvert>=6.4.4->jupyter-server<3,>=2.4.0->jupyterlab) (4.13.2)\n",
      "Requirement already satisfied: arrow>=0.15.0 in ./.venv/lib/python3.13/site-packages (from isoduration->jsonschema[format-nongpl]>=4.18.0->jupyter-events>=0.11.0->jupyter-server<3,>=2.4.0->jupyterlab) (1.3.0)\n",
      "Requirement already satisfied: types-python-dateutil>=2.8.10 in ./.venv/lib/python3.13/site-packages (from arrow>=0.15.0->isoduration->jsonschema[format-nongpl]>=4.18.0->jupyter-events>=0.11.0->jupyter-server<3,>=2.4.0->jupyterlab) (2.9.0.20241206)\n",
      "Requirement already satisfied: executing>=1.2.0 in ./.venv/lib/python3.13/site-packages (from stack_data->ipython>=7.23.1->ipykernel) (2.2.0)\n",
      "Requirement already satisfied: asttokens>=2.1.0 in ./.venv/lib/python3.13/site-packages (from stack_data->ipython>=7.23.1->ipykernel) (3.0.0)\n",
      "Requirement already satisfied: pure-eval in ./.venv/lib/python3.13/site-packages (from stack_data->ipython>=7.23.1->ipykernel) (0.2.3)\n",
      "Downloading svgpathtools-1.6.1-py2.py3-none-any.whl (67 kB)\n",
      "Using cached scipy-1.15.2-cp313-cp313-macosx_14_0_arm64.whl (22.4 MB)\n",
      "Downloading svgwrite-1.4.3-py3-none-any.whl (67 kB)\n",
      "Installing collected packages: svgwrite, scipy, svgpathtools\n",
      "\u001b[2K   \u001b[90m━━━━━━━━━━━━━━━━━━━━━━━━━━━━━━━━━━━━━━━━\u001b[0m \u001b[32m3/3\u001b[0m [svgpathtools][0m [svgpathtools]\n",
      "\u001b[1A\u001b[2KSuccessfully installed scipy-1.15.2 svgpathtools-1.6.1 svgwrite-1.4.3\n",
      "Note: you may need to restart the kernel to use updated packages.\n"
     ]
    }
   ],
   "source": [
    "%pip install jupyterlab ipykernel pillow numpy lxml tqdm svgpathtools"
   ]
  },
  {
   "cell_type": "markdown",
   "id": "9fa3124d",
   "metadata": {},
   "source": [
    "# First Step: Create Distinct Images for Each Word"
   ]
  },
  {
   "cell_type": "code",
   "execution_count": 2,
   "id": "94945847",
   "metadata": {},
   "outputs": [],
   "source": [
    "from pathlib import Path\n",
    "from PIL import Image\n",
    "import numpy as np\n",
    "import lxml.etree as ET\n",
    "import csv, re, os\n",
    "from tqdm import tqdm\n",
    "\n",
    "# --- paths (adapt if your folders differ) --------------------------\n",
    "\n",
    "ROOT = Path(\"dataset\")               # root of the project\n",
    "PAGES_DIR = ROOT / \"images\"            # 271.jpg ...\n",
    "SVG_DIR   = ROOT / \"locations\"          # 271.svg ...\n",
    "INDEX_TSV = ROOT / \"transcription.tsv\"\n",
    "DEST_DIR  = ROOT / \"words\"            # crops will be created here\n",
    "DEST_DIR.mkdir(parents=True, exist_ok=True)"
   ]
  },
  {
   "cell_type": "code",
   "execution_count": 3,
   "id": "7ea19767",
   "metadata": {},
   "outputs": [
    {
     "name": "stdout",
     "output_type": "stream",
     "text": [
      "Total entries: 3726\n"
     ]
    },
    {
     "data": {
      "text/plain": [
       "[{'id': '270-01-01', 'keyword': 's_2s_7s_0s_pt'},\n",
       " {'id': '270-01-02', 'keyword': 'Letterss_cm'},\n",
       " {'id': '270-01-03', 'keyword': 'Orders'}]"
      ]
     },
     "execution_count": 3,
     "metadata": {},
     "output_type": "execute_result"
    }
   ],
   "source": [
    "index = []\n",
    "with INDEX_TSV.open() as f:\n",
    "    for locator,word in csv.reader(f, delimiter=\"\\t\"):\n",
    "        index.append({\n",
    "            \"id\": locator,\n",
    "            \"keyword\" : word.replace(\"-\", \"\")\n",
    "        })\n",
    "\n",
    "print(\"Total entries:\", len(index))\n",
    "index[:3]"
   ]
  },
  {
   "cell_type": "markdown",
   "id": "0d92393e",
   "metadata": {},
   "source": []
  },
  {
   "cell_type": "code",
   "execution_count": 6,
   "id": "ff27a798",
   "metadata": {},
   "outputs": [],
   "source": [
    "from svgpathtools import parse_path\n",
    "def bbox_from_svg(svg_path: Path, locator):\n",
    "    \"\"\"\n",
    "    Return (x, y, w, h) in SVG coordinate space for the path whose id is\n",
    "    exactly '{page:03d}-{line:02d}-{word:02d}', e.g. '270-01-03'.\n",
    "    \"\"\"\n",
    "    target_id = locator\n",
    "    elem = ET.parse(str(svg_path)).find(f\".//*[@id='{target_id}']\")\n",
    "    if elem is None:\n",
    "        raise ValueError(f\"id {target_id} not found in {svg_path.name}\")\n",
    "\n",
    "    # compute bbox from the path’s 'd' data\n",
    "    path = parse_path(elem.get(\"d\"))\n",
    "    xmin, xmax, ymin, ymax = path.bbox()\n",
    "    return xmin, ymin, xmax - xmin, ymax - ymin"
   ]
  },
  {
   "cell_type": "code",
   "execution_count": 7,
   "id": "4586ddcd",
   "metadata": {},
   "outputs": [
    {
     "name": "stderr",
     "output_type": "stream",
     "text": [
      "100%|██████████| 3726/3726 [00:49<00:00, 75.30it/s]\n"
     ]
    }
   ],
   "source": [
    "def svg_to_pixel_coords(svg_path: Path, jpg_path: Path, xywh):\n",
    "    \"\"\"Map SVG coords to JPEG pixel coords (assumes same aspect).\"\"\"\n",
    "    svg_width  = float((ET.parse(str(svg_path)).getroot().get(\"width\")).rstrip(\"px\"))\n",
    "    svg_height = float((ET.parse(str(svg_path)).getroot().get(\"height\")).rstrip(\"px\"))\n",
    "    img = Image.open(jpg_path)\n",
    "    img_w, img_h = img.size\n",
    "\n",
    "    scale_x = img_w / svg_width\n",
    "    scale_y = img_h / svg_height\n",
    "\n",
    "    x, y, w, h = xywh\n",
    "    return int(x*scale_x), int(y*scale_y), int(w*scale_x), int(h*scale_y)\n",
    "\n",
    "for rec in tqdm(index):\n",
    "    locator   = rec[\"id\"]\n",
    "    word   = rec[\"keyword\"]\n",
    "    page = locator.split(\"-\", 1)[0] \n",
    "\n",
    "    svg_path = SVG_DIR / f\"{page}.svg\"\n",
    "    jpg_path = PAGES_DIR / f\"{page}.jpg\"\n",
    "\n",
    "    # 1. locate bbox in SVG units\n",
    "    xywh_svg = bbox_from_svg(svg_path, locator)\n",
    "\n",
    "    # 2. map to pixel coords\n",
    "    x, y, w, h = svg_to_pixel_coords(svg_path, jpg_path, xywh_svg)\n",
    "\n",
    "    # 3. crop\n",
    "    img  = Image.open(jpg_path).convert(\"L\")        # grayscale\n",
    "    crop = img.crop((x, y, x+w, y+h))\n",
    "\n",
    "    # 4. save\n",
    "    dest_dir = DEST_DIR / word\n",
    "    dest_dir.mkdir(exist_ok=True)\n",
    "    out_path = dest_dir / f\"{locator}.png\"\n",
    "    crop.save(out_path)"
   ]
  },
  {
   "cell_type": "markdown",
   "id": "5acbf5bb",
   "metadata": {},
   "source": [
    "# Pre‑process each crop into a 1‑D feature sequence"
   ]
  },
  {
   "cell_type": "code",
   "execution_count": null,
   "id": "36e1ec0f",
   "metadata": {},
   "outputs": [
    {
     "name": "stdout",
     "output_type": "stream",
     "text": [
      "Requirement already satisfied: opencv-python in ./.venv/lib/python3.13/site-packages (4.11.0.86)\n",
      "Requirement already satisfied: scikit-image in ./.venv/lib/python3.13/site-packages (0.25.2)\n",
      "Requirement already satisfied: numpy in ./.venv/lib/python3.13/site-packages (2.2.5)\n",
      "Requirement already satisfied: scipy>=1.11.4 in ./.venv/lib/python3.13/site-packages (from scikit-image) (1.15.2)\n",
      "Requirement already satisfied: networkx>=3.0 in ./.venv/lib/python3.13/site-packages (from scikit-image) (3.4.2)\n",
      "Requirement already satisfied: pillow>=10.1 in ./.venv/lib/python3.13/site-packages (from scikit-image) (11.2.1)\n",
      "Requirement already satisfied: imageio!=2.35.0,>=2.33 in ./.venv/lib/python3.13/site-packages (from scikit-image) (2.37.0)\n",
      "Requirement already satisfied: tifffile>=2022.8.12 in ./.venv/lib/python3.13/site-packages (from scikit-image) (2025.3.30)\n",
      "Requirement already satisfied: packaging>=21 in ./.venv/lib/python3.13/site-packages (from scikit-image) (25.0)\n",
      "Requirement already satisfied: lazy-loader>=0.4 in ./.venv/lib/python3.13/site-packages (from scikit-image) (0.4)\n"
     ]
    }
   ],
   "source": [
    "%pip install opencv-python scikit-image numpy"
   ]
  },
  {
   "cell_type": "code",
   "execution_count": 11,
   "id": "270b5825",
   "metadata": {},
   "outputs": [],
   "source": [
    "import cv2, numpy as np\n",
    "from skimage.feature import hog\n",
    "\n",
    "def word_image_to_seq(png_path, strip_w=3, h_out=64):\n",
    "    img = cv2.imread(png_path, cv2.IMREAD_GRAYSCALE)\n",
    "    # 1. binarise & deskew (simple OTSU + moments)\n",
    "    _, bw = cv2.threshold(img, 0, 255, cv2.THRESH_BINARY_INV+cv2.THRESH_OTSU)\n",
    "    # TODO: add deskew if lines are slanted\n",
    "    # 2. resize height\n",
    "    h, w = bw.shape\n",
    "    scale = h_out / h\n",
    "    bw = cv2.resize(bw, (int(w*scale), h_out), interpolation=cv2.INTER_NEAREST)\n",
    "    # 3. sliding window\n",
    "    seq = []\n",
    "    for x in range(0, bw.shape[1]-strip_w+1):\n",
    "        strip = bw[:, x:x+strip_w]\n",
    "        hfeat = hog(strip, orientations=8, pixels_per_cell=(h_out, strip_w),\n",
    "                    cells_per_block=(1,1), feature_vector=True)\n",
    "        upper = h_out - np.argmax(strip[::-1].any(axis=1))\n",
    "        lower = np.argmax(strip.any(axis=1))\n",
    "        density = strip.mean()\n",
    "        seq.append(np.r_[hfeat, upper, lower, density])\n",
    "    return np.vstack(seq)        # shape (T, n_feat)"
   ]
  },
  {
   "cell_type": "markdown",
   "id": "91d3e4be",
   "metadata": {},
   "source": [
    "### Hand‑written‑word strip feature vector (length = 11)\n",
    "\n",
    "| Index (s) | Dim | Name / Formula | Value Range | Intuition |\n",
    "|-----------|-----|----------------|-------------|-----------|\n",
    "| 0 – 7     | 8   | **HOG bins** – normalized histogram of gradient orientations (0°, 45°, …, 315°) inside the 3 px‑wide strip. | 0 – 1 (L2‑norm) | Encodes local stroke direction & curvature. |\n",
    "| 8         | 1   | **Upper contour** – `row index of highest ink pixel` | 0 – 63 (px) | Tall letters like “l”, “k” push this **down** (larger number). |\n",
    "| 9         | 1   | **Lower contour** – `row index of lowest ink pixel` | 0 – 63 (px) | Descenders (“g”, “y”) push this **up** (larger number). |\n",
    "| 10        | 1   | **Ink density** – `mean(strip)` after binarisation (`1 = ink`, `0 = paper`). | 0.0 – 1.0 | Distinguishes thick blobs (dots, loops) from airy strokes. |\n",
    "\n",
    "*Image height is rescaled to 64 px before these metrics are computed.*\n",
    "\n",
    "---\n",
    "\n",
    "**Shape per word**\n",
    "\n",
    "* Each 3‑px horizontal shift emits one 11‑D vector.  \n",
    "* A word ≈ `W` pixels wide → sequence length **T ≈ (W − 2)**.  \n",
    "* Example sizes: <br>“Virginia” ≈ 138×11, “and” ≈ 68×11.\n"
   ]
  }
 ],
 "metadata": {
  "kernelspec": {
   "display_name": ".venv",
   "language": "python",
   "name": "python3"
  },
  "language_info": {
   "codemirror_mode": {
    "name": "ipython",
    "version": 3
   },
   "file_extension": ".py",
   "mimetype": "text/x-python",
   "name": "python",
   "nbconvert_exporter": "python",
   "pygments_lexer": "ipython3",
   "version": "3.13.2"
  }
 },
 "nbformat": 4,
 "nbformat_minor": 5
}
